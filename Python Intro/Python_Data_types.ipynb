{
  "nbformat": 4,
  "nbformat_minor": 0,
  "metadata": {
    "colab": {
      "name": "Python_Data types.ipynb",
      "provenance": [],
      "collapsed_sections": []
    },
    "kernelspec": {
      "name": "python3",
      "display_name": "Python 3"
    },
    "language_info": {
      "name": "python"
    }
  },
  "cells": [
    {
      "cell_type": "markdown",
      "source": [
        "# **## Data types**\n",
        "\n",
        "1.  Numeric-: a) integer b) float c) Complex Number\n",
        "2.  Sequence type:a)String b) List c) Tuple\n",
        "3.  Dictionary\n",
        "4.  Set"
      ],
      "metadata": {
        "id": "7MIw55cy-9By"
      }
    },
    {
      "cell_type": "markdown",
      "source": [
        "# Mutable and Immutable data types\n",
        "\n",
        "----> Mutable object can change its state or contents\n",
        "\n",
        "----> Immutable objects can not changes its state or contents."
      ],
      "metadata": {
        "id": "6EAlZ4etfx_v"
      }
    },
    {
      "cell_type": "markdown",
      "source": [
        "# Mutable Data types:\n",
        "\n",
        "1.   List\n",
        "2.   Dictionary\n",
        "3.   Byte Array\n",
        "\n",
        "# Immutable Data types:\n",
        "\n",
        "1.  Int,float,complex\n",
        "2.  String,tuple,Set\n",
        "\n",
        "\n"
      ],
      "metadata": {
        "id": "AcOloK43gREV"
      }
    },
    {
      "cell_type": "code",
      "source": [
        "a=10 # Numeric data type\n",
        "b=52.36 # Numeric data type\n",
        "c=57+3j # Numeric data type\n",
        "print(type(a))\n",
        "print(type(b))\n",
        "print(type(c))"
      ],
      "metadata": {
        "colab": {
          "base_uri": "https://localhost:8080/"
        },
        "id": "KJIt-cNtg0Ua",
        "outputId": "faa0a2b5-a67b-4ed0-e571-e77963ef2414"
      },
      "execution_count": null,
      "outputs": [
        {
          "output_type": "stream",
          "name": "stdout",
          "text": [
            "<class 'int'>\n",
            "<class 'float'>\n",
            "<class 'complex'>\n"
          ]
        }
      ]
    },
    {
      "cell_type": "code",
      "source": [
        ""
      ],
      "metadata": {
        "id": "NUAh-FO4hKp1"
      },
      "execution_count": null,
      "outputs": []
    },
    {
      "cell_type": "markdown",
      "source": [
        "# String: A string is a collection of 1 or more characters put in '',\"\",''' '''\n",
        "# Triple quote is used to get new line [multiple lines in the string]\n"
      ],
      "metadata": {
        "id": "Gmr9tzTviDtz"
      }
    },
    {
      "cell_type": "code",
      "source": [
        "s='Hello Python, you are very awsome command language'\n",
        "print(s, type(s))"
      ],
      "metadata": {
        "colab": {
          "base_uri": "https://localhost:8080/"
        },
        "id": "jaIhoDpAivVO",
        "outputId": "e9c34dca-095b-44d2-9042-11a25b4733fc"
      },
      "execution_count": null,
      "outputs": [
        {
          "output_type": "stream",
          "name": "stdout",
          "text": [
            "Hello Python, you are very awsome command language <class 'str'>\n"
          ]
        }
      ]
    },
    {
      "cell_type": "code",
      "source": [
        "s1='''Python\n",
        "this is best language to execute any code\n",
        "I Like it very much'''\n",
        "print(s1,type(s1))\n"
      ],
      "metadata": {
        "colab": {
          "base_uri": "https://localhost:8080/"
        },
        "id": "EwjzTr8Qi2MQ",
        "outputId": "9c019eb2-8d99-41b8-bef4-7c6baab39b92"
      },
      "execution_count": null,
      "outputs": [
        {
          "output_type": "stream",
          "name": "stdout",
          "text": [
            "Python\n",
            "this is best language to execute any code\n",
            "I Like it very much <class 'str'>\n"
          ]
        }
      ]
    },
    {
      "cell_type": "code",
      "source": [
        ""
      ],
      "metadata": {
        "id": "OkXObqeRjSVb"
      },
      "execution_count": null,
      "outputs": []
    },
    {
      "cell_type": "markdown",
      "source": [
        "## List: List is an ordered sequence of items. It is one of the most prior data type in the python and it's very flexible.\n",
        "# used by []\n",
        "# List is mutable\n",
        "e.g. L=[1,2,'mu','qr']"
      ],
      "metadata": {
        "id": "s6aWDt245QSX"
      }
    },
    {
      "cell_type": "code",
      "source": [
        "L=[1,2,5,7,'pq','th','vn']"
      ],
      "metadata": {
        "id": "-JgyWF_555RX"
      },
      "execution_count": null,
      "outputs": []
    },
    {
      "cell_type": "code",
      "source": [
        "print(type(L))"
      ],
      "metadata": {
        "colab": {
          "base_uri": "https://localhost:8080/"
        },
        "id": "IrxAG2dE6FoH",
        "outputId": "9f72bd4c-7859-40ea-96f2-5681a4b6eed0"
      },
      "execution_count": null,
      "outputs": [
        {
          "output_type": "stream",
          "name": "stdout",
          "text": [
            "<class 'list'>\n"
          ]
        }
      ]
    },
    {
      "cell_type": "code",
      "source": [
        "L.insert(2,'PIKU') # List are mutable"
      ],
      "metadata": {
        "id": "mL0x8WTh6M5B"
      },
      "execution_count": null,
      "outputs": []
    },
    {
      "cell_type": "code",
      "source": [
        "L"
      ],
      "metadata": {
        "colab": {
          "base_uri": "https://localhost:8080/"
        },
        "id": "gR0HCPit7EAt",
        "outputId": "595eb548-faa7-497e-c91e-852bb2e3b127"
      },
      "execution_count": null,
      "outputs": [
        {
          "output_type": "execute_result",
          "data": {
            "text/plain": [
              "[1, 2, 'PIKU', 5, 7, 'pq', 'th', 'vn']"
            ]
          },
          "metadata": {},
          "execution_count": 10
        }
      ]
    },
    {
      "cell_type": "code",
      "source": [
        ""
      ],
      "metadata": {
        "id": "CF9QorGS7pdC"
      },
      "execution_count": null,
      "outputs": []
    },
    {
      "cell_type": "markdown",
      "source": [
        "### **Tuple: Tuple is an ordered sequence of items same as list.\n",
        "\n",
        "# it is defined within circular parantheses() where items are seperated by comma,\n",
        "\n",
        "# It is immutable\n",
        "\n",
        "# e.g. t=(1,2,5,'program')\n",
        "\n",
        "# Basic difference between tuple and list is Tuple is more faster than List."
      ],
      "metadata": {
        "id": "UoB6x2KD7yyO"
      }
    },
    {
      "cell_type": "code",
      "source": [
        "t=(512,736,442,'program','TV','Bade ache lagte hai')"
      ],
      "metadata": {
        "id": "W2O8PfNA8_OS"
      },
      "execution_count": null,
      "outputs": []
    },
    {
      "cell_type": "code",
      "source": [
        "print (t)\n",
        "print (type(t))"
      ],
      "metadata": {
        "colab": {
          "base_uri": "https://localhost:8080/"
        },
        "id": "Pmq89rB19Ono",
        "outputId": "0f14c6e1-0803-49f2-da19-ca9a588d08bd"
      },
      "execution_count": null,
      "outputs": [
        {
          "output_type": "stream",
          "name": "stdout",
          "text": [
            "(512, 736, 442, 'program', 'TV', 'Bade ache lagte hai')\n",
            "<class 'tuple'>\n"
          ]
        }
      ]
    },
    {
      "cell_type": "code",
      "source": [
        "t.insert(4,'Sakshi Tanwar') # Tuples are immutable"
      ],
      "metadata": {
        "colab": {
          "base_uri": "https://localhost:8080/",
          "height": 165
        },
        "id": "b4Q18dAL9TiM",
        "outputId": "c379870d-18c5-4f21-c665-ef576f431028"
      },
      "execution_count": null,
      "outputs": [
        {
          "output_type": "error",
          "ename": "AttributeError",
          "evalue": "ignored",
          "traceback": [
            "\u001b[0;31m---------------------------------------------------------------------------\u001b[0m",
            "\u001b[0;31mAttributeError\u001b[0m                            Traceback (most recent call last)",
            "\u001b[0;32m<ipython-input-13-2115e8beb7e4>\u001b[0m in \u001b[0;36m<module>\u001b[0;34m()\u001b[0m\n\u001b[0;32m----> 1\u001b[0;31m \u001b[0mt\u001b[0m\u001b[0;34m.\u001b[0m\u001b[0minsert\u001b[0m\u001b[0;34m(\u001b[0m\u001b[0;36m4\u001b[0m\u001b[0;34m,\u001b[0m\u001b[0;34m'Sakshi Tanwar'\u001b[0m\u001b[0;34m)\u001b[0m\u001b[0;34m\u001b[0m\u001b[0;34m\u001b[0m\u001b[0m\n\u001b[0m",
            "\u001b[0;31mAttributeError\u001b[0m: 'tuple' object has no attribute 'insert'"
          ]
        }
      ]
    },
    {
      "cell_type": "markdown",
      "source": [
        "## **Dictionary**: Dictionary is an unordered collection of key-value pairs.\n",
        "\n",
        "# In python, dictionaries are defined within curly braces {} with each item being a pair in the form of Key:'value'\n",
        "\n",
        "# d={1:'P',2:'q'}\n",
        "\n",
        "# Key has always unique,we can store multiple same values"
      ],
      "metadata": {
        "id": "rORVxlXs9t7A"
      }
    },
    {
      "cell_type": "code",
      "source": [
        "d={1:'Name',2:'age',2:'age'}"
      ],
      "metadata": {
        "id": "0nY_HZg8-57y"
      },
      "execution_count": null,
      "outputs": []
    },
    {
      "cell_type": "code",
      "source": [
        "d# In dictionary,keys removes duplicate values "
      ],
      "metadata": {
        "colab": {
          "base_uri": "https://localhost:8080/"
        },
        "id": "H4tPNvQT_jt5",
        "outputId": "63ff3c59-d7dc-4a93-ac31-0a2df83e4ae9"
      },
      "execution_count": null,
      "outputs": [
        {
          "output_type": "execute_result",
          "data": {
            "text/plain": [
              "{1: 'Name', 2: 'age'}"
            ]
          },
          "metadata": {},
          "execution_count": 18
        }
      ]
    },
    {
      "cell_type": "code",
      "source": [
        "type(d)"
      ],
      "metadata": {
        "colab": {
          "base_uri": "https://localhost:8080/"
        },
        "id": "L_2nPzb0_k2B",
        "outputId": "e37b36b1-4abe-4412-ae6e-200b21d10cfa"
      },
      "execution_count": null,
      "outputs": [
        {
          "output_type": "execute_result",
          "data": {
            "text/plain": [
              "dict"
            ]
          },
          "metadata": {},
          "execution_count": 19
        }
      ]
    },
    {
      "cell_type": "markdown",
      "source": [
        "# Set: A set is an unordered collection of items.Every set element is unique(no duplicates)& must be immutable "
      ],
      "metadata": {
        "id": "T_jHw0zIAENu"
      }
    },
    {
      "cell_type": "code",
      "source": [
        "my_set={1,2,3}"
      ],
      "metadata": {
        "id": "vXbfX7bcA4-5"
      },
      "execution_count": null,
      "outputs": []
    },
    {
      "cell_type": "code",
      "source": [
        "type(my_set)"
      ],
      "metadata": {
        "colab": {
          "base_uri": "https://localhost:8080/"
        },
        "id": "prmKVZDjBAjB",
        "outputId": "91ed51a7-7d33-4102-a4f5-0d37a6e386ad"
      },
      "execution_count": null,
      "outputs": [
        {
          "output_type": "execute_result",
          "data": {
            "text/plain": [
              "set"
            ]
          },
          "metadata": {},
          "execution_count": 21
        }
      ]
    },
    {
      "cell_type": "code",
      "source": [
        "my_set.insert(0,'ppp') # set are immutable"
      ],
      "metadata": {
        "colab": {
          "base_uri": "https://localhost:8080/",
          "height": 165
        },
        "id": "t61jSjIRBFJP",
        "outputId": "cfd339d6-a942-45e1-f0b1-c260df05b414"
      },
      "execution_count": null,
      "outputs": [
        {
          "output_type": "error",
          "ename": "AttributeError",
          "evalue": "ignored",
          "traceback": [
            "\u001b[0;31m---------------------------------------------------------------------------\u001b[0m",
            "\u001b[0;31mAttributeError\u001b[0m                            Traceback (most recent call last)",
            "\u001b[0;32m<ipython-input-22-421276aaaf55>\u001b[0m in \u001b[0;36m<module>\u001b[0;34m()\u001b[0m\n\u001b[0;32m----> 1\u001b[0;31m \u001b[0mmy_set\u001b[0m\u001b[0;34m.\u001b[0m\u001b[0minsert\u001b[0m\u001b[0;34m(\u001b[0m\u001b[0;36m0\u001b[0m\u001b[0;34m,\u001b[0m\u001b[0;34m'ppp'\u001b[0m\u001b[0;34m)\u001b[0m\u001b[0;34m\u001b[0m\u001b[0;34m\u001b[0m\u001b[0m\n\u001b[0m",
            "\u001b[0;31mAttributeError\u001b[0m: 'set' object has no attribute 'insert'"
          ]
        }
      ]
    },
    {
      "cell_type": "code",
      "source": [
        "my_set={1,2,4,5,6,4,'pppp'}"
      ],
      "metadata": {
        "id": "UXJLmipoBNJm"
      },
      "execution_count": null,
      "outputs": []
    },
    {
      "cell_type": "code",
      "source": [
        "my_set # remove duplicate values"
      ],
      "metadata": {
        "colab": {
          "base_uri": "https://localhost:8080/"
        },
        "id": "SbaelNw7BcSb",
        "outputId": "efa74277-278a-4834-a277-30980e2085e1"
      },
      "execution_count": null,
      "outputs": [
        {
          "output_type": "execute_result",
          "data": {
            "text/plain": [
              "{1, 2, 4, 5, 6, 'pppp'}"
            ]
          },
          "metadata": {},
          "execution_count": 24
        }
      ]
    },
    {
      "cell_type": "code",
      "source": [
        ""
      ],
      "metadata": {
        "id": "nx0ZiAveBeN2"
      },
      "execution_count": null,
      "outputs": []
    }
  ]
}