{
  "nbformat": 4,
  "nbformat_minor": 0,
  "metadata": {
    "colab": {
      "name": "Python_Basic_Intro.ipynb",
      "provenance": [],
      "collapsed_sections": [],
      "toc_visible": true
    },
    "kernelspec": {
      "name": "python3",
      "display_name": "Python 3"
    },
    "language_info": {
      "name": "python"
    }
  },
  "cells": [
    {
      "cell_type": "markdown",
      "source": [
        "# 1st Function used in python\n",
        "\n",
        "a) Print--> Simply to used to print that text and values\n",
        "\n",
        "b) It is function so always used with ()\n",
        "\n",
        "c) string/character should be used in '' or \"\"\n",
        "\n",
        "d) for more than 1 line in the string we use ''' '''\n"
      ],
      "metadata": {
        "id": "3tdOwahGK4I5"
      }
    },
    {
      "cell_type": "code",
      "source": [
        "print(\"Hello Python, the most popular language widely used in the world\")"
      ],
      "metadata": {
        "colab": {
          "base_uri": "https://localhost:8080/"
        },
        "id": "IJS00Dz5LHhr",
        "outputId": "a05fbdbe-e66b-4a47-88d6-24351f15e46a"
      },
      "execution_count": null,
      "outputs": [
        {
          "output_type": "stream",
          "name": "stdout",
          "text": [
            "Hello Python, the most popular language widely used in the world\n"
          ]
        }
      ]
    },
    {
      "cell_type": "code",
      "source": [
        "print('''Hi Python\n",
        "This is my 1st program so wish me good luck\n",
        "this is quiet interesting coding''')"
      ],
      "metadata": {
        "colab": {
          "base_uri": "https://localhost:8080/"
        },
        "id": "Ak6O_bJbL2sx",
        "outputId": "6e3bec6c-99e9-48d9-f58a-f3b9cadccf74"
      },
      "execution_count": null,
      "outputs": [
        {
          "output_type": "stream",
          "name": "stdout",
          "text": [
            "Hi Python\n",
            "This is my 1st program so wish me good luck\n",
            "this is quiet interesting coding\n"
          ]
        }
      ]
    },
    {
      "cell_type": "code",
      "source": [
        "print(10<20)"
      ],
      "metadata": {
        "colab": {
          "base_uri": "https://localhost:8080/"
        },
        "id": "sjSLWy9NMNfn",
        "outputId": "29ff579b-f4ff-49d0-ab43-e4a99fafb3d1"
      },
      "execution_count": null,
      "outputs": [
        {
          "output_type": "stream",
          "name": "stdout",
          "text": [
            "True\n"
          ]
        }
      ]
    },
    {
      "cell_type": "code",
      "source": [
        "print(5>50)"
      ],
      "metadata": {
        "colab": {
          "base_uri": "https://localhost:8080/"
        },
        "id": "0JcdtPfxVnxX",
        "outputId": "32e21097-1218-4076-e8ee-c91348c8e7f5"
      },
      "execution_count": null,
      "outputs": [
        {
          "output_type": "stream",
          "name": "stdout",
          "text": [
            "False\n"
          ]
        }
      ]
    },
    {
      "cell_type": "markdown",
      "source": [
        "# **Variables in Python**\n",
        "\n",
        "1.Variables are used to store the values in the python\n",
        "\n",
        "2.Variable name should not start with numbers like 1a\n",
        "\n",
        "3. Variable name should not consider special character at the start\n",
        "\n",
        "4. Variable name should not update with space, we can store the variable name with underscore\n",
        "\n",
        "5. Variable name are case sensistive hence 'a' and 'A' are different\n",
        "\n",
        "6. Memory of variables are allocated as per the values not as per their variable name. a=10,b=10 hence same memory allocated to a and b variable"
      ],
      "metadata": {
        "id": "psgiQ5MhMWn_"
      }
    },
    {
      "cell_type": "code",
      "source": [
        "a=10\n",
        "b=10"
      ],
      "metadata": {
        "id": "5d1Hl-pWNgFi"
      },
      "execution_count": null,
      "outputs": []
    },
    {
      "cell_type": "code",
      "source": [
        "print(id(a),id(b))"
      ],
      "metadata": {
        "colab": {
          "base_uri": "https://localhost:8080/"
        },
        "id": "xxLZXGLYNaOn",
        "outputId": "dc11d913-32f6-4c01-fc85-313266fa1996"
      },
      "execution_count": null,
      "outputs": [
        {
          "output_type": "stream",
          "name": "stdout",
          "text": [
            "94892135009056 94892135009056\n"
          ]
        }
      ]
    },
    {
      "cell_type": "code",
      "source": [
        "a=10\n",
        "A=10"
      ],
      "metadata": {
        "id": "cPYegmBtNtT2"
      },
      "execution_count": null,
      "outputs": []
    },
    {
      "cell_type": "code",
      "source": [
        "print(a,A)"
      ],
      "metadata": {
        "colab": {
          "base_uri": "https://localhost:8080/"
        },
        "id": "QOFD6xV3Nznm",
        "outputId": "538f01b9-8ed5-4cb7-9c10-a4dbfe41e59c"
      },
      "execution_count": null,
      "outputs": [
        {
          "output_type": "stream",
          "name": "stdout",
          "text": [
            "10 10\n"
          ]
        }
      ]
    },
    {
      "cell_type": "code",
      "source": [
        ""
      ],
      "metadata": {
        "id": "8pj-TsNCN23N"
      },
      "execution_count": null,
      "outputs": []
    },
    {
      "cell_type": "markdown",
      "source": [
        "# String concinnate\n",
        "\n",
        "Using '+' symbol we can add two strings or numbers.\n",
        "\n",
        "Data type should be same on both sides"
      ],
      "metadata": {
        "id": "dfADLGRrTL92"
      }
    },
    {
      "cell_type": "code",
      "source": [
        "str1=\"Welcome to world of coding\"\n",
        "str2='This is fabulous'"
      ],
      "metadata": {
        "id": "_bp_vOV5ULJQ"
      },
      "execution_count": null,
      "outputs": []
    },
    {
      "cell_type": "code",
      "source": [
        "print(str1+\" \" +str2)"
      ],
      "metadata": {
        "colab": {
          "base_uri": "https://localhost:8080/"
        },
        "id": "1tXE_wBaUblp",
        "outputId": "82e2d2b7-1855-4469-8d50-5684ffd69332"
      },
      "execution_count": null,
      "outputs": [
        {
          "output_type": "stream",
          "name": "stdout",
          "text": [
            "Welcome to world of coding This is fabulous\n"
          ]
        }
      ]
    },
    {
      "cell_type": "code",
      "source": [
        "c=50"
      ],
      "metadata": {
        "id": "x-ixXxR4Ugz_"
      },
      "execution_count": null,
      "outputs": []
    },
    {
      "cell_type": "code",
      "source": [
        "print(c+20)"
      ],
      "metadata": {
        "colab": {
          "base_uri": "https://localhost:8080/"
        },
        "id": "SROtbp6vVb-o",
        "outputId": "c2e2a40d-b8d0-40ee-8b64-ab27f448efae"
      },
      "execution_count": null,
      "outputs": [
        {
          "output_type": "stream",
          "name": "stdout",
          "text": [
            "70\n"
          ]
        }
      ]
    },
    {
      "cell_type": "code",
      "source": [
        ""
      ],
      "metadata": {
        "id": "gE1FQYBfVfmU"
      },
      "execution_count": null,
      "outputs": []
    },
    {
      "cell_type": "markdown",
      "source": [
        "# Arithematic Operators\n",
        "\n",
        "---> specially used to perform mathematical calculations\n",
        "\n",
        "---> + to add values\n",
        "\n",
        "---> - to subtract values\n",
        "\n",
        "---> * to multiply values\n",
        "\n",
        "---> / to divide the values\n",
        "\n",
        "---> % to get reminder after dividing the number # also called as Modulus\n",
        "\n",
        "---> ** to get power of that number # Expoential value\n",
        "\n",
        "----> // floor division # to get whole number after dividing the number\n"
      ],
      "metadata": {
        "id": "QQ2bCa3LVzHO"
      }
    },
    {
      "cell_type": "code",
      "source": [
        "a=50 \n",
        "b=10"
      ],
      "metadata": {
        "id": "rQu7z1D-XKSM"
      },
      "execution_count": null,
      "outputs": []
    },
    {
      "cell_type": "code",
      "source": [
        "a+b # addition"
      ],
      "metadata": {
        "colab": {
          "base_uri": "https://localhost:8080/"
        },
        "id": "Mt812NIWXPc9",
        "outputId": "5a1c71d0-483c-4196-d94d-2b8161c74702"
      },
      "execution_count": null,
      "outputs": [
        {
          "output_type": "execute_result",
          "data": {
            "text/plain": [
              "60"
            ]
          },
          "metadata": {},
          "execution_count": 24
        }
      ]
    },
    {
      "cell_type": "code",
      "source": [
        "a-b # subtraction"
      ],
      "metadata": {
        "colab": {
          "base_uri": "https://localhost:8080/"
        },
        "id": "oIhQv09qXYM2",
        "outputId": "8b00468f-1d06-421f-caf8-d0f16ac3fa3c"
      },
      "execution_count": null,
      "outputs": [
        {
          "output_type": "execute_result",
          "data": {
            "text/plain": [
              "40"
            ]
          },
          "metadata": {},
          "execution_count": 25
        }
      ]
    },
    {
      "cell_type": "code",
      "source": [
        "a*b # Multification"
      ],
      "metadata": {
        "colab": {
          "base_uri": "https://localhost:8080/"
        },
        "id": "BEZdIINLXfY0",
        "outputId": "675ffa74-1bce-4ef4-d411-4df385f7510e"
      },
      "execution_count": null,
      "outputs": [
        {
          "output_type": "execute_result",
          "data": {
            "text/plain": [
              "500"
            ]
          },
          "metadata": {},
          "execution_count": 26
        }
      ]
    },
    {
      "cell_type": "code",
      "source": [
        "a/b # Dividation"
      ],
      "metadata": {
        "colab": {
          "base_uri": "https://localhost:8080/"
        },
        "id": "jtbRjzsOXjmf",
        "outputId": "2efeb491-e4c5-4733-b57d-50923d4979dc"
      },
      "execution_count": null,
      "outputs": [
        {
          "output_type": "execute_result",
          "data": {
            "text/plain": [
              "5.0"
            ]
          },
          "metadata": {},
          "execution_count": 27
        }
      ]
    },
    {
      "cell_type": "code",
      "source": [
        "a%b # Modulus to get reminder"
      ],
      "metadata": {
        "colab": {
          "base_uri": "https://localhost:8080/"
        },
        "id": "H8KsOWSOXn-e",
        "outputId": "8818ae50-0a7b-4541-e648-b6c61dac22da"
      },
      "execution_count": null,
      "outputs": [
        {
          "output_type": "execute_result",
          "data": {
            "text/plain": [
              "0"
            ]
          },
          "metadata": {},
          "execution_count": 29
        }
      ]
    },
    {
      "cell_type": "code",
      "source": [
        "a**2 # Expoential value"
      ],
      "metadata": {
        "colab": {
          "base_uri": "https://localhost:8080/"
        },
        "id": "lsBHDmjqXvOH",
        "outputId": "3a53e58b-c112-4f30-84e5-71f3bf8ea643"
      },
      "execution_count": null,
      "outputs": [
        {
          "output_type": "execute_result",
          "data": {
            "text/plain": [
              "2500"
            ]
          },
          "metadata": {},
          "execution_count": 30
        }
      ]
    },
    {
      "cell_type": "code",
      "source": [
        "b**3"
      ],
      "metadata": {
        "colab": {
          "base_uri": "https://localhost:8080/"
        },
        "id": "Pm0vs8WAX6aj",
        "outputId": "6fc9cff9-837d-49ba-f436-dcc4e92513d7"
      },
      "execution_count": null,
      "outputs": [
        {
          "output_type": "execute_result",
          "data": {
            "text/plain": [
              "1000"
            ]
          },
          "metadata": {},
          "execution_count": 31
        }
      ]
    },
    {
      "cell_type": "code",
      "source": [
        "a//b # floor division "
      ],
      "metadata": {
        "colab": {
          "base_uri": "https://localhost:8080/"
        },
        "id": "ZpOqWJQ5X-TK",
        "outputId": "0a34bb12-df90-4d17-a180-eb7f5c4244f0"
      },
      "execution_count": null,
      "outputs": [
        {
          "output_type": "execute_result",
          "data": {
            "text/plain": [
              "5"
            ]
          },
          "metadata": {},
          "execution_count": 32
        }
      ]
    },
    {
      "cell_type": "code",
      "source": [
        ""
      ],
      "metadata": {
        "id": "6vbHPA07YEJ_"
      },
      "execution_count": null,
      "outputs": []
    },
    {
      "cell_type": "markdown",
      "source": [
        "# Assignment operator"
      ],
      "metadata": {
        "id": "7lZ51bhzZTPy"
      }
    },
    {
      "cell_type": "code",
      "source": [
        "x=5 # Assign the value to X\n",
        "print(x)"
      ],
      "metadata": {
        "colab": {
          "base_uri": "https://localhost:8080/"
        },
        "id": "W_5CKfn2ZXhb",
        "outputId": "4e509995-fef7-4eeb-c731-8496acb18b63"
      },
      "execution_count": null,
      "outputs": [
        {
          "output_type": "stream",
          "name": "stdout",
          "text": [
            "5\n"
          ]
        }
      ]
    },
    {
      "cell_type": "code",
      "source": [
        "x+=5 # it means x=x+5\n",
        "print(x)"
      ],
      "metadata": {
        "colab": {
          "base_uri": "https://localhost:8080/"
        },
        "id": "nn4imrluaCDI",
        "outputId": "4d59d5fc-450d-4c1c-b34b-8bcde1186989"
      },
      "execution_count": null,
      "outputs": [
        {
          "output_type": "stream",
          "name": "stdout",
          "text": [
            "10\n"
          ]
        }
      ]
    },
    {
      "cell_type": "code",
      "source": [
        "x-=4 # it means x=x-4\n",
        "print(x)"
      ],
      "metadata": {
        "colab": {
          "base_uri": "https://localhost:8080/"
        },
        "id": "yY_IvVrvaGoP",
        "outputId": "7fa8a2f9-4406-4c56-d8b4-335677a3b81e"
      },
      "execution_count": null,
      "outputs": [
        {
          "output_type": "stream",
          "name": "stdout",
          "text": [
            "6\n"
          ]
        }
      ]
    },
    {
      "cell_type": "code",
      "source": [
        ""
      ],
      "metadata": {
        "id": "2Ugn01SjaZr_"
      },
      "execution_count": null,
      "outputs": []
    },
    {
      "cell_type": "markdown",
      "source": [
        "# Comparison Operator\n",
        "\n",
        "1)== both values are equal\n",
        "\n",
        "2)!= both values are not equal\n",
        "\n",
        "3) > one value is greater than other\n",
        "\n",
        "4) < one value is less than other\n",
        "\n",
        "5) >= one value is greater or equal to other\n",
        "\n",
        "6) <= one value is less than or equal to other"
      ],
      "metadata": {
        "id": "HvTQdH_fcJWz"
      }
    },
    {
      "cell_type": "code",
      "source": [
        "x=50\n",
        "y=45"
      ],
      "metadata": {
        "id": "3FRDvHItcq1i"
      },
      "execution_count": null,
      "outputs": []
    },
    {
      "cell_type": "code",
      "source": [
        "print(x==y) # Checking whether both values are equal or not"
      ],
      "metadata": {
        "colab": {
          "base_uri": "https://localhost:8080/"
        },
        "id": "h0PZCiL2e_g4",
        "outputId": "8bd1ab23-83ac-4a4c-c54e-65d0e1f06c9f"
      },
      "execution_count": null,
      "outputs": [
        {
          "output_type": "stream",
          "name": "stdout",
          "text": [
            "False\n"
          ]
        }
      ]
    },
    {
      "cell_type": "code",
      "source": [
        "print(x!=y) # checking whether both values are not equal"
      ],
      "metadata": {
        "colab": {
          "base_uri": "https://localhost:8080/"
        },
        "id": "czT7pzsMfC4y",
        "outputId": "6958348b-8aad-458f-c564-020aa4e0376f"
      },
      "execution_count": null,
      "outputs": [
        {
          "output_type": "stream",
          "name": "stdout",
          "text": [
            "True\n"
          ]
        }
      ]
    },
    {
      "cell_type": "code",
      "source": [
        "print(x>y) # checking whether 1st variable is greater than other"
      ],
      "metadata": {
        "colab": {
          "base_uri": "https://localhost:8080/"
        },
        "id": "4m6l8Sl0fOQB",
        "outputId": "cf78b736-c0c2-4067-ce10-791098663718"
      },
      "execution_count": null,
      "outputs": [
        {
          "output_type": "stream",
          "name": "stdout",
          "text": [
            "True\n"
          ]
        }
      ]
    },
    {
      "cell_type": "code",
      "source": [
        "print(x<y)# checking whether 1st variable is less than other"
      ],
      "metadata": {
        "colab": {
          "base_uri": "https://localhost:8080/"
        },
        "id": "5N0thaXRfegS",
        "outputId": "c9dd0ade-60a7-4d3a-a4f4-4257d75944e9"
      },
      "execution_count": null,
      "outputs": [
        {
          "output_type": "stream",
          "name": "stdout",
          "text": [
            "False\n"
          ]
        }
      ]
    },
    {
      "cell_type": "code",
      "source": [
        "print(x>=y) # checking whether 1st variable is greater or equal to other"
      ],
      "metadata": {
        "colab": {
          "base_uri": "https://localhost:8080/"
        },
        "id": "DChwGVqXfk85",
        "outputId": "f7c261df-a2de-41ab-9361-d31eb51200c0"
      },
      "execution_count": null,
      "outputs": [
        {
          "output_type": "stream",
          "name": "stdout",
          "text": [
            "True\n"
          ]
        }
      ]
    },
    {
      "cell_type": "code",
      "source": [
        "print(x<=y) # checking whether 1st variable is less or equal to other"
      ],
      "metadata": {
        "colab": {
          "base_uri": "https://localhost:8080/"
        },
        "id": "Apdcix3Dfus7",
        "outputId": "2708066c-df87-40c6-9a4e-41fd4c295a34"
      },
      "execution_count": null,
      "outputs": [
        {
          "output_type": "stream",
          "name": "stdout",
          "text": [
            "False\n"
          ]
        }
      ]
    },
    {
      "cell_type": "code",
      "source": [
        "print(y>x)"
      ],
      "metadata": {
        "colab": {
          "base_uri": "https://localhost:8080/"
        },
        "id": "DUEkMFAOf5D_",
        "outputId": "4bdf7de0-101d-4aba-8950-215692dea68f"
      },
      "execution_count": null,
      "outputs": [
        {
          "output_type": "stream",
          "name": "stdout",
          "text": [
            "False\n"
          ]
        }
      ]
    },
    {
      "cell_type": "code",
      "source": [
        "print(y<=x)"
      ],
      "metadata": {
        "colab": {
          "base_uri": "https://localhost:8080/"
        },
        "id": "EJJoE-ptf8BY",
        "outputId": "f9e611f5-4e0e-4a63-bd7f-df38160caf95"
      },
      "execution_count": null,
      "outputs": [
        {
          "output_type": "stream",
          "name": "stdout",
          "text": [
            "True\n"
          ]
        }
      ]
    },
    {
      "cell_type": "markdown",
      "source": [
        "# Logical Operators\n",
        "\n",
        "a) And: both statements (conditions) should be meet then only it gives true result. e.g. if we want to derive 2nd class students from the result so condition should be marks should be less than 60 and greater than 45\n",
        "\n",
        "b) Or: either condidtion should be meet (at least 1) among all conditions, it gives true result e.g. if we want to derive fail students from result so condition should be marks should be less than 35 in any subjects consider it as Fail.\n",
        "\n",
        "c)Not: Reverse the result,returns false if the result is true"
      ],
      "metadata": {
        "id": "ufefr9qNgIua"
      }
    },
    {
      "cell_type": "code",
      "source": [
        "x=10\n",
        "y=20"
      ],
      "metadata": {
        "id": "XywE4erwhPFj"
      },
      "execution_count": null,
      "outputs": []
    },
    {
      "cell_type": "code",
      "source": [
        "print(x==10 and x<y) # both conditions are meet hence it gives true result"
      ],
      "metadata": {
        "colab": {
          "base_uri": "https://localhost:8080/"
        },
        "id": "vdWKdPT5CAAM",
        "outputId": "6c4c6e69-1e61-4337-b74a-bb147af795f0"
      },
      "execution_count": null,
      "outputs": [
        {
          "output_type": "stream",
          "name": "stdout",
          "text": [
            "True\n"
          ]
        }
      ]
    },
    {
      "cell_type": "code",
      "source": [
        "print(x==10 and x<y and x==y) # when there is one single condition not met then it gives false result"
      ],
      "metadata": {
        "colab": {
          "base_uri": "https://localhost:8080/"
        },
        "id": "Z-Ek-IQFCM5m",
        "outputId": "006f1366-d537-4dd0-b64b-f877361f989a"
      },
      "execution_count": null,
      "outputs": [
        {
          "output_type": "stream",
          "name": "stdout",
          "text": [
            "False\n"
          ]
        }
      ]
    },
    {
      "cell_type": "code",
      "source": [
        "print(x==10 or x<y or x==y) # at least one condition meet it gives true result"
      ],
      "metadata": {
        "colab": {
          "base_uri": "https://localhost:8080/"
        },
        "id": "ZvrDMrQpChCU",
        "outputId": "56377019-8215-4d42-cec3-51627e2fd7aa"
      },
      "execution_count": null,
      "outputs": [
        {
          "output_type": "stream",
          "name": "stdout",
          "text": [
            "True\n"
          ]
        }
      ]
    },
    {
      "cell_type": "code",
      "source": [
        "print(not x!=10) # not is used to reverse your output"
      ],
      "metadata": {
        "colab": {
          "base_uri": "https://localhost:8080/"
        },
        "id": "KKR9WobKC9g2",
        "outputId": "5af5def4-521f-42ee-c20b-2c065ae268db"
      },
      "execution_count": null,
      "outputs": [
        {
          "output_type": "stream",
          "name": "stdout",
          "text": [
            "True\n"
          ]
        }
      ]
    },
    {
      "cell_type": "code",
      "source": [
        "print(not y<10)"
      ],
      "metadata": {
        "colab": {
          "base_uri": "https://localhost:8080/"
        },
        "id": "xDTViileDYGb",
        "outputId": "34776bd6-b589-4da3-d0ae-13f18602fbdc"
      },
      "execution_count": null,
      "outputs": [
        {
          "output_type": "stream",
          "name": "stdout",
          "text": [
            "True\n"
          ]
        }
      ]
    },
    {
      "cell_type": "code",
      "source": [
        "print(not y>40)"
      ],
      "metadata": {
        "colab": {
          "base_uri": "https://localhost:8080/"
        },
        "id": "E0CLK6SuDkX_",
        "outputId": "77b56371-49e6-4fee-8083-6111011a65fa"
      },
      "execution_count": null,
      "outputs": [
        {
          "output_type": "stream",
          "name": "stdout",
          "text": [
            "True\n"
          ]
        }
      ]
    },
    {
      "cell_type": "code",
      "source": [
        "print(not x<=5)"
      ],
      "metadata": {
        "colab": {
          "base_uri": "https://localhost:8080/"
        },
        "id": "CjMXjKV-DorB",
        "outputId": "b428de5b-93ae-4f94-d994-3156f33bd929"
      },
      "execution_count": null,
      "outputs": [
        {
          "output_type": "stream",
          "name": "stdout",
          "text": [
            "True\n"
          ]
        }
      ]
    },
    {
      "cell_type": "code",
      "source": [
        "print(not x>=2)"
      ],
      "metadata": {
        "colab": {
          "base_uri": "https://localhost:8080/"
        },
        "id": "sElNKTPjDvTj",
        "outputId": "c8366a3d-e486-41f3-b957-1ac6e8da0d7f"
      },
      "execution_count": null,
      "outputs": [
        {
          "output_type": "stream",
          "name": "stdout",
          "text": [
            "False\n"
          ]
        }
      ]
    },
    {
      "cell_type": "code",
      "source": [
        ""
      ],
      "metadata": {
        "id": "ByChzCi6D1Xp"
      },
      "execution_count": null,
      "outputs": []
    },
    {
      "cell_type": "markdown",
      "source": [
        "# Membership Operators in python\n",
        "\n",
        "1.in: Returns true if a squenece with the specific value is present in the object e.g. x in y\n",
        "\n",
        "2. Not in: when value is not present in the object e.g. X not in y"
      ],
      "metadata": {
        "id": "lGy80x74D9-b"
      }
    },
    {
      "cell_type": "code",
      "source": [
        "string1='Hello Python, you are very user friendly'"
      ],
      "metadata": {
        "id": "PFbeFEcaE1eb"
      },
      "execution_count": null,
      "outputs": []
    },
    {
      "cell_type": "code",
      "source": [
        "print('p' in string1)"
      ],
      "metadata": {
        "colab": {
          "base_uri": "https://localhost:8080/"
        },
        "id": "_xbtOt2MF7qj",
        "outputId": "16af7bf4-1b43-4985-e1d2-4a3470de6e21"
      },
      "execution_count": null,
      "outputs": [
        {
          "output_type": "stream",
          "name": "stdout",
          "text": [
            "False\n"
          ]
        }
      ]
    },
    {
      "cell_type": "code",
      "source": [
        "print('o' not in string1)"
      ],
      "metadata": {
        "colab": {
          "base_uri": "https://localhost:8080/"
        },
        "id": "HbKZa_RPGDKy",
        "outputId": "7844a8ad-f04c-4b0f-b28a-c7c9e0ab3d6f"
      },
      "execution_count": null,
      "outputs": [
        {
          "output_type": "stream",
          "name": "stdout",
          "text": [
            "False\n"
          ]
        }
      ]
    },
    {
      "cell_type": "code",
      "source": [
        "print('z' not in string1)"
      ],
      "metadata": {
        "colab": {
          "base_uri": "https://localhost:8080/"
        },
        "id": "hqNFwiAAGofA",
        "outputId": "a6bccd5e-1961-4f38-dc14-e880396a9e1d"
      },
      "execution_count": null,
      "outputs": [
        {
          "output_type": "stream",
          "name": "stdout",
          "text": [
            "True\n"
          ]
        }
      ]
    },
    {
      "cell_type": "code",
      "source": [
        ""
      ],
      "metadata": {
        "id": "ubjPGULtGtu4"
      },
      "execution_count": null,
      "outputs": []
    },
    {
      "cell_type": "markdown",
      "source": [
        "## Identity Operators\n",
        "\n",
        "1.is: returns true if both variables are same object (like comparison operator ==) e.g. x is y\n",
        "\n",
        "2.is not: returns true if both variables are not equal( like not equal to !=)\n",
        "e.g. x is not Y"
      ],
      "metadata": {
        "id": "kUg8dmWZHmyB"
      }
    },
    {
      "cell_type": "code",
      "source": [
        "x=10\n",
        "y=10"
      ],
      "metadata": {
        "id": "ZQrOEFfMIHv2"
      },
      "execution_count": null,
      "outputs": []
    },
    {
      "cell_type": "code",
      "source": [
        "print(x is y, x==y)"
      ],
      "metadata": {
        "colab": {
          "base_uri": "https://localhost:8080/"
        },
        "id": "ZMsHqL0RILJz",
        "outputId": "b091dc09-4b00-4a29-e9d9-60c0add63bbd"
      },
      "execution_count": null,
      "outputs": [
        {
          "output_type": "stream",
          "name": "stdout",
          "text": [
            "True True\n"
          ]
        }
      ]
    },
    {
      "cell_type": "code",
      "source": [
        "print(x is not y, x!=y)"
      ],
      "metadata": {
        "colab": {
          "base_uri": "https://localhost:8080/"
        },
        "id": "OeS3w83lIQmx",
        "outputId": "895c78e1-d2b6-45a3-f3d4-6cef4415d19b"
      },
      "execution_count": null,
      "outputs": [
        {
          "output_type": "stream",
          "name": "stdout",
          "text": [
            "False False\n"
          ]
        }
      ]
    },
    {
      "cell_type": "code",
      "source": [
        ""
      ],
      "metadata": {
        "id": "WSCR-giJIVZc"
      },
      "execution_count": null,
      "outputs": []
    },
    {
      "cell_type": "markdown",
      "source": [
        "# Bitwise Operator\n",
        "\n",
        "1: True\n",
        "\n",
        "0: False\n",
        "\n",
        "&:and:A&B when both binary values are true then it gives result as 'True'\n",
        "\n",
        "|:or:A|B when one binary values are true then it gives result as 'True'\n",
        "\n",
        "^:XOR:A^B when both binary values are true then it gives result as 'False'\n",
        "\n",
        "\n"
      ],
      "metadata": {
        "id": "Hj_tjVjm7k8c"
      }
    },
    {
      "cell_type": "code",
      "source": [
        "x=15\n",
        "y=10"
      ],
      "metadata": {
        "id": "gpofK5N38tub"
      },
      "execution_count": null,
      "outputs": []
    },
    {
      "cell_type": "code",
      "source": [
        "print(bin(x),bin(y))"
      ],
      "metadata": {
        "colab": {
          "base_uri": "https://localhost:8080/"
        },
        "id": "ZYV-T5Dj8y7R",
        "outputId": "4251abcc-19a0-4099-8d30-4612ed063cde"
      },
      "execution_count": null,
      "outputs": [
        {
          "output_type": "stream",
          "name": "stdout",
          "text": [
            "0b1111 0b1010\n"
          ]
        }
      ]
    },
    {
      "cell_type": "code",
      "source": [
        "print(x&y,bin(x&y)) # using And Operator"
      ],
      "metadata": {
        "colab": {
          "base_uri": "https://localhost:8080/"
        },
        "id": "YQVQbkgR85TS",
        "outputId": "33a232b2-b640-4526-ccef-3682e5da5f05"
      },
      "execution_count": null,
      "outputs": [
        {
          "output_type": "stream",
          "name": "stdout",
          "text": [
            "10 0b1010\n"
          ]
        }
      ]
    },
    {
      "cell_type": "code",
      "source": [
        "print(x|y,bin(x|y)) # using Or Operator"
      ],
      "metadata": {
        "colab": {
          "base_uri": "https://localhost:8080/"
        },
        "id": "xUvBiRLi9EwV",
        "outputId": "3e6a5cb9-6cde-48aa-c4ff-8a428283e849"
      },
      "execution_count": null,
      "outputs": [
        {
          "output_type": "stream",
          "name": "stdout",
          "text": [
            "15 0b1111\n"
          ]
        }
      ]
    },
    {
      "cell_type": "code",
      "source": [
        "print(x^y,bin(x^y))"
      ],
      "metadata": {
        "colab": {
          "base_uri": "https://localhost:8080/"
        },
        "id": "g_Kw3UD99sMq",
        "outputId": "cd2f984f-15a1-43fe-a297-a64724607a83"
      },
      "execution_count": null,
      "outputs": [
        {
          "output_type": "stream",
          "name": "stdout",
          "text": [
            "5 0b101\n"
          ]
        }
      ]
    },
    {
      "cell_type": "code",
      "source": [
        ""
      ],
      "metadata": {
        "id": "49MgFrXq97Ux"
      },
      "execution_count": null,
      "outputs": []
    }
  ]
}